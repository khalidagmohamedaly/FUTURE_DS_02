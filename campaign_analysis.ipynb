# Notebook Jupyter - Analyse Campagnes Publicitaires
# Future Interns - Task 2
# Copiez ce code dans Jupyter Notebook

# ============================================================
# CELL 1 : IMPORTS ET CONFIGURATION
# ============================================================

import pandas as pd
import numpy as np
import matplotlib.pyplot as plt
import seaborn as sns
from datetime import datetime
import warnings
warnings.filterwarnings('ignore')

# Configuration
plt.style.use('seaborn-v0_8-whitegrid')
sns.set_palette("Set2")
pd.set_option('display.max_columns', None)

print("📱 Social Media Campaign Performance Tracker")
print("="*70)
print(f"📅 Date d'analyse : {datetime.now().strftime('%Y-%m-%d %H:%M:%S')}")

# ============================================================
# CELL 2 : CHARGEMENT DES DONNÉES
# ============================================================

# Charger les données
df = pd.read_csv('../data/campaign_data.csv')

# Convertir les dates
df['Start Date'] = pd.to_datetime(df['Start Date'])
df['End Date'] = pd.to_datetime(df['End Date'])

print(f"\n✅ Données chargées : {df.shape[0]} campagnes, {df.shape[1]} colonnes")
print("\n📋 Aperçu des données:")
df.head(10)

# ============================================================
# CELL 3 : OVERVIEW DES DONNÉES
# ============================================================

print("\n📊 INFORMATIONS GÉNÉRALES")
print("="*70)
df.info()

print("\n📈 STATISTIQUES DESCRIPTIVES")
print("="*70)
df[['Budget', 'Impressions', 'Clicks', 'Conversions', 'Revenue', 'CTR', 'ROI']].describe()

# ============================================================
# CELL 4 : KPIs GLOBAUX
# ============================================================

print("\n💎 KEY PERFORMANCE INDICATORS")
print("="*70)

total_budget = df['Budget'].sum()
total_revenue = df['Revenue'].sum()
total_impressions = df['Impressions'].sum()
total_clicks = df['Clicks'].sum()
total_conversions = df['Conversions'].sum()
total_engagement = df['Engagement'].sum()

avg_ctr = df['CTR'].mean()
avg_conversion_rate = df['Conversion Rate'].mean()
avg_roi = df['ROI'].mean()
avg_roas = df['ROAS'].mean()

overall_roi = ((total_revenue - total_budget) / total_budget) * 100

print(f"\n💰 MÉTRIQUES FINANCIÈRES:")
print(f"  Budget Total Investi: ${total_budget:,.2f}")
print(f"  Revenu Total Généré: ${total_revenue:,.2f}")
print(f"  Profit Net: ${(total_revenue - total_budget):,.2f}")
print(f"  ROI Global: {overall_roi:.2f}%")
print(f"  ROAS Moyen: {avg_roas:.2f}")

print(f"\n📊 MÉTRIQUES DE PERFORMANCE:")
print(f"  Impressions Totales: {total_impressions:,}")
print(f"  Clicks Totaux: {total_clicks:,}")
print(f"  Conversions Totales: {total_conversions:,}")
print(f"  Engagement Total: {total_engagement:,}")

print(f"\n🎯 TAUX DE PERFORMANCE:")
print(f"  CTR Moyen: {avg_ctr:.3f}%")
print(f"  Taux de Conversion Moyen: {avg_conversion_rate:.3f}%")
print(f"  ROI Moyen par Campagne: {avg_roi:.2f}%")

print(f"\n📈 CAMPAGNES:")
print(f"  Nombre Total: {len(df)}")
print(f"  Durée Moyenne: {df['Duration'].mean():.1f} jours")
print(f"  Budget Moyen: ${df['Budget'].mean
